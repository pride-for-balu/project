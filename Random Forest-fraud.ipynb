{
 "cells": [
  {
   "cell_type": "markdown",
   "id": "59ecce80",
   "metadata": {},
   "source": [
    "# 1 - Business Problem\n",
    "\n",
    "___Use Random Forest to prepare a model on fraud data___"
   ]
  },
  {
   "cell_type": "code",
   "execution_count": 1,
   "id": "d343f7d4",
   "metadata": {
    "ExecuteTime": {
     "end_time": "2023-07-08T11:08:04.193837Z",
     "start_time": "2023-07-08T11:08:00.962175Z"
    }
   },
   "outputs": [],
   "source": [
    "import pandas as pd\n",
    "import numpy as np\n",
    "import matplotlib.pyplot as plt\n",
    "from sklearn import preprocessing\n",
    "from sklearn.model_selection import train_test_split\n",
    "from sklearn import datasets,tree\n",
    "from sklearn.tree import export_graphviz \n",
    "from sklearn import externals\n",
    "import seaborn as sns\n",
    "from sklearn.ensemble import RandomForestClassifier as RF\n",
    "from sklearn.metrics import accuracy_score\n",
    "from sklearn.metrics import confusion_matrix\n",
    "import matplotlib.image as mpimg \n",
    "import matplotlib.pyplot as plt"
   ]
  },
  {
   "cell_type": "markdown",
   "id": "62280c65",
   "metadata": {},
   "source": [
    "2 - Data collection and description"
   ]
  },
  {
   "cell_type": "code",
   "execution_count": 2,
   "id": "07b92098",
   "metadata": {
    "ExecuteTime": {
     "end_time": "2023-07-08T11:08:10.053431Z",
     "start_time": "2023-07-08T11:08:10.010030Z"
    }
   },
   "outputs": [
    {
     "data": {
      "text/html": [
       "<div>\n",
       "<style scoped>\n",
       "    .dataframe tbody tr th:only-of-type {\n",
       "        vertical-align: middle;\n",
       "    }\n",
       "\n",
       "    .dataframe tbody tr th {\n",
       "        vertical-align: top;\n",
       "    }\n",
       "\n",
       "    .dataframe thead th {\n",
       "        text-align: right;\n",
       "    }\n",
       "</style>\n",
       "<table border=\"1\" class=\"dataframe\">\n",
       "  <thead>\n",
       "    <tr style=\"text-align: right;\">\n",
       "      <th></th>\n",
       "      <th>Undergrad</th>\n",
       "      <th>Marital.Status</th>\n",
       "      <th>Taxable.Income</th>\n",
       "      <th>City.Population</th>\n",
       "      <th>Work.Experience</th>\n",
       "      <th>Urban</th>\n",
       "    </tr>\n",
       "  </thead>\n",
       "  <tbody>\n",
       "    <tr>\n",
       "      <th>0</th>\n",
       "      <td>NO</td>\n",
       "      <td>Single</td>\n",
       "      <td>68833</td>\n",
       "      <td>50047</td>\n",
       "      <td>10</td>\n",
       "      <td>YES</td>\n",
       "    </tr>\n",
       "    <tr>\n",
       "      <th>1</th>\n",
       "      <td>YES</td>\n",
       "      <td>Divorced</td>\n",
       "      <td>33700</td>\n",
       "      <td>134075</td>\n",
       "      <td>18</td>\n",
       "      <td>YES</td>\n",
       "    </tr>\n",
       "    <tr>\n",
       "      <th>2</th>\n",
       "      <td>NO</td>\n",
       "      <td>Married</td>\n",
       "      <td>36925</td>\n",
       "      <td>160205</td>\n",
       "      <td>30</td>\n",
       "      <td>YES</td>\n",
       "    </tr>\n",
       "    <tr>\n",
       "      <th>3</th>\n",
       "      <td>YES</td>\n",
       "      <td>Single</td>\n",
       "      <td>50190</td>\n",
       "      <td>193264</td>\n",
       "      <td>15</td>\n",
       "      <td>YES</td>\n",
       "    </tr>\n",
       "    <tr>\n",
       "      <th>4</th>\n",
       "      <td>NO</td>\n",
       "      <td>Married</td>\n",
       "      <td>81002</td>\n",
       "      <td>27533</td>\n",
       "      <td>28</td>\n",
       "      <td>NO</td>\n",
       "    </tr>\n",
       "    <tr>\n",
       "      <th>...</th>\n",
       "      <td>...</td>\n",
       "      <td>...</td>\n",
       "      <td>...</td>\n",
       "      <td>...</td>\n",
       "      <td>...</td>\n",
       "      <td>...</td>\n",
       "    </tr>\n",
       "    <tr>\n",
       "      <th>595</th>\n",
       "      <td>YES</td>\n",
       "      <td>Divorced</td>\n",
       "      <td>76340</td>\n",
       "      <td>39492</td>\n",
       "      <td>7</td>\n",
       "      <td>YES</td>\n",
       "    </tr>\n",
       "    <tr>\n",
       "      <th>596</th>\n",
       "      <td>YES</td>\n",
       "      <td>Divorced</td>\n",
       "      <td>69967</td>\n",
       "      <td>55369</td>\n",
       "      <td>2</td>\n",
       "      <td>YES</td>\n",
       "    </tr>\n",
       "    <tr>\n",
       "      <th>597</th>\n",
       "      <td>NO</td>\n",
       "      <td>Divorced</td>\n",
       "      <td>47334</td>\n",
       "      <td>154058</td>\n",
       "      <td>0</td>\n",
       "      <td>YES</td>\n",
       "    </tr>\n",
       "    <tr>\n",
       "      <th>598</th>\n",
       "      <td>YES</td>\n",
       "      <td>Married</td>\n",
       "      <td>98592</td>\n",
       "      <td>180083</td>\n",
       "      <td>17</td>\n",
       "      <td>NO</td>\n",
       "    </tr>\n",
       "    <tr>\n",
       "      <th>599</th>\n",
       "      <td>NO</td>\n",
       "      <td>Divorced</td>\n",
       "      <td>96519</td>\n",
       "      <td>158137</td>\n",
       "      <td>16</td>\n",
       "      <td>NO</td>\n",
       "    </tr>\n",
       "  </tbody>\n",
       "</table>\n",
       "<p>600 rows × 6 columns</p>\n",
       "</div>"
      ],
      "text/plain": [
       "    Undergrad Marital.Status  Taxable.Income  City.Population  \\\n",
       "0          NO         Single           68833            50047   \n",
       "1         YES       Divorced           33700           134075   \n",
       "2          NO        Married           36925           160205   \n",
       "3         YES         Single           50190           193264   \n",
       "4          NO        Married           81002            27533   \n",
       "..        ...            ...             ...              ...   \n",
       "595       YES       Divorced           76340            39492   \n",
       "596       YES       Divorced           69967            55369   \n",
       "597        NO       Divorced           47334           154058   \n",
       "598       YES        Married           98592           180083   \n",
       "599        NO       Divorced           96519           158137   \n",
       "\n",
       "     Work.Experience Urban  \n",
       "0                 10   YES  \n",
       "1                 18   YES  \n",
       "2                 30   YES  \n",
       "3                 15   YES  \n",
       "4                 28    NO  \n",
       "..               ...   ...  \n",
       "595                7   YES  \n",
       "596                2   YES  \n",
       "597                0   YES  \n",
       "598               17    NO  \n",
       "599               16    NO  \n",
       "\n",
       "[600 rows x 6 columns]"
      ]
     },
     "execution_count": 2,
     "metadata": {},
     "output_type": "execute_result"
    }
   ],
   "source": [
    "df = pd.read_csv(\"Fraud_check .csv\")\n",
    "df"
   ]
  },
  {
   "cell_type": "code",
   "execution_count": 3,
   "id": "5a9464c1",
   "metadata": {
    "ExecuteTime": {
     "end_time": "2023-07-08T11:08:13.192886Z",
     "start_time": "2023-07-08T11:08:13.177927Z"
    }
   },
   "outputs": [],
   "source": [
    "df.rename(columns={\"Taxable.Income\": \"Taxable_Income\"}, inplace=True)"
   ]
  },
  {
   "cell_type": "code",
   "execution_count": 4,
   "id": "8cc5d80f",
   "metadata": {
    "ExecuteTime": {
     "end_time": "2023-07-08T11:08:14.112836Z",
     "start_time": "2023-07-08T11:08:14.098872Z"
    }
   },
   "outputs": [
    {
     "data": {
      "text/html": [
       "<div>\n",
       "<style scoped>\n",
       "    .dataframe tbody tr th:only-of-type {\n",
       "        vertical-align: middle;\n",
       "    }\n",
       "\n",
       "    .dataframe tbody tr th {\n",
       "        vertical-align: top;\n",
       "    }\n",
       "\n",
       "    .dataframe thead th {\n",
       "        text-align: right;\n",
       "    }\n",
       "</style>\n",
       "<table border=\"1\" class=\"dataframe\">\n",
       "  <thead>\n",
       "    <tr style=\"text-align: right;\">\n",
       "      <th></th>\n",
       "      <th>Undergrad</th>\n",
       "      <th>Marital.Status</th>\n",
       "      <th>Taxable_Income</th>\n",
       "      <th>City.Population</th>\n",
       "      <th>Work.Experience</th>\n",
       "      <th>Urban</th>\n",
       "    </tr>\n",
       "  </thead>\n",
       "  <tbody>\n",
       "    <tr>\n",
       "      <th>0</th>\n",
       "      <td>NO</td>\n",
       "      <td>Single</td>\n",
       "      <td>68833</td>\n",
       "      <td>50047</td>\n",
       "      <td>10</td>\n",
       "      <td>YES</td>\n",
       "    </tr>\n",
       "    <tr>\n",
       "      <th>1</th>\n",
       "      <td>YES</td>\n",
       "      <td>Divorced</td>\n",
       "      <td>33700</td>\n",
       "      <td>134075</td>\n",
       "      <td>18</td>\n",
       "      <td>YES</td>\n",
       "    </tr>\n",
       "    <tr>\n",
       "      <th>2</th>\n",
       "      <td>NO</td>\n",
       "      <td>Married</td>\n",
       "      <td>36925</td>\n",
       "      <td>160205</td>\n",
       "      <td>30</td>\n",
       "      <td>YES</td>\n",
       "    </tr>\n",
       "    <tr>\n",
       "      <th>3</th>\n",
       "      <td>YES</td>\n",
       "      <td>Single</td>\n",
       "      <td>50190</td>\n",
       "      <td>193264</td>\n",
       "      <td>15</td>\n",
       "      <td>YES</td>\n",
       "    </tr>\n",
       "    <tr>\n",
       "      <th>4</th>\n",
       "      <td>NO</td>\n",
       "      <td>Married</td>\n",
       "      <td>81002</td>\n",
       "      <td>27533</td>\n",
       "      <td>28</td>\n",
       "      <td>NO</td>\n",
       "    </tr>\n",
       "    <tr>\n",
       "      <th>...</th>\n",
       "      <td>...</td>\n",
       "      <td>...</td>\n",
       "      <td>...</td>\n",
       "      <td>...</td>\n",
       "      <td>...</td>\n",
       "      <td>...</td>\n",
       "    </tr>\n",
       "    <tr>\n",
       "      <th>595</th>\n",
       "      <td>YES</td>\n",
       "      <td>Divorced</td>\n",
       "      <td>76340</td>\n",
       "      <td>39492</td>\n",
       "      <td>7</td>\n",
       "      <td>YES</td>\n",
       "    </tr>\n",
       "    <tr>\n",
       "      <th>596</th>\n",
       "      <td>YES</td>\n",
       "      <td>Divorced</td>\n",
       "      <td>69967</td>\n",
       "      <td>55369</td>\n",
       "      <td>2</td>\n",
       "      <td>YES</td>\n",
       "    </tr>\n",
       "    <tr>\n",
       "      <th>597</th>\n",
       "      <td>NO</td>\n",
       "      <td>Divorced</td>\n",
       "      <td>47334</td>\n",
       "      <td>154058</td>\n",
       "      <td>0</td>\n",
       "      <td>YES</td>\n",
       "    </tr>\n",
       "    <tr>\n",
       "      <th>598</th>\n",
       "      <td>YES</td>\n",
       "      <td>Married</td>\n",
       "      <td>98592</td>\n",
       "      <td>180083</td>\n",
       "      <td>17</td>\n",
       "      <td>NO</td>\n",
       "    </tr>\n",
       "    <tr>\n",
       "      <th>599</th>\n",
       "      <td>NO</td>\n",
       "      <td>Divorced</td>\n",
       "      <td>96519</td>\n",
       "      <td>158137</td>\n",
       "      <td>16</td>\n",
       "      <td>NO</td>\n",
       "    </tr>\n",
       "  </tbody>\n",
       "</table>\n",
       "<p>600 rows × 6 columns</p>\n",
       "</div>"
      ],
      "text/plain": [
       "    Undergrad Marital.Status  Taxable_Income  City.Population  \\\n",
       "0          NO         Single           68833            50047   \n",
       "1         YES       Divorced           33700           134075   \n",
       "2          NO        Married           36925           160205   \n",
       "3         YES         Single           50190           193264   \n",
       "4          NO        Married           81002            27533   \n",
       "..        ...            ...             ...              ...   \n",
       "595       YES       Divorced           76340            39492   \n",
       "596       YES       Divorced           69967            55369   \n",
       "597        NO       Divorced           47334           154058   \n",
       "598       YES        Married           98592           180083   \n",
       "599        NO       Divorced           96519           158137   \n",
       "\n",
       "     Work.Experience Urban  \n",
       "0                 10   YES  \n",
       "1                 18   YES  \n",
       "2                 30   YES  \n",
       "3                 15   YES  \n",
       "4                 28    NO  \n",
       "..               ...   ...  \n",
       "595                7   YES  \n",
       "596                2   YES  \n",
       "597                0   YES  \n",
       "598               17    NO  \n",
       "599               16    NO  \n",
       "\n",
       "[600 rows x 6 columns]"
      ]
     },
     "execution_count": 4,
     "metadata": {},
     "output_type": "execute_result"
    }
   ],
   "source": [
    "df"
   ]
  },
  {
   "cell_type": "code",
   "execution_count": 5,
   "id": "405f7e70",
   "metadata": {
    "ExecuteTime": {
     "end_time": "2023-07-08T11:08:16.807400Z",
     "start_time": "2023-07-08T11:08:16.779335Z"
    }
   },
   "outputs": [],
   "source": [
    "# Categorize individuals based on taxable income\n",
    "df['Risk_Category'] = df['Taxable_Income'].apply(lambda x: 'Risky' if x <= 30000 else 'Good')"
   ]
  },
  {
   "cell_type": "code",
   "execution_count": 6,
   "id": "1e482540",
   "metadata": {
    "ExecuteTime": {
     "end_time": "2023-07-08T11:08:18.838600Z",
     "start_time": "2023-07-08T11:08:18.819117Z"
    }
   },
   "outputs": [],
   "source": [
    "df.drop(\"Taxable_Income\", axis=1, inplace=True)"
   ]
  },
  {
   "cell_type": "code",
   "execution_count": 7,
   "id": "b656059c",
   "metadata": {
    "ExecuteTime": {
     "end_time": "2023-07-08T11:08:19.864914Z",
     "start_time": "2023-07-08T11:08:19.852338Z"
    }
   },
   "outputs": [
    {
     "data": {
      "text/html": [
       "<div>\n",
       "<style scoped>\n",
       "    .dataframe tbody tr th:only-of-type {\n",
       "        vertical-align: middle;\n",
       "    }\n",
       "\n",
       "    .dataframe tbody tr th {\n",
       "        vertical-align: top;\n",
       "    }\n",
       "\n",
       "    .dataframe thead th {\n",
       "        text-align: right;\n",
       "    }\n",
       "</style>\n",
       "<table border=\"1\" class=\"dataframe\">\n",
       "  <thead>\n",
       "    <tr style=\"text-align: right;\">\n",
       "      <th></th>\n",
       "      <th>Undergrad</th>\n",
       "      <th>Marital.Status</th>\n",
       "      <th>City.Population</th>\n",
       "      <th>Work.Experience</th>\n",
       "      <th>Urban</th>\n",
       "      <th>Risk_Category</th>\n",
       "    </tr>\n",
       "  </thead>\n",
       "  <tbody>\n",
       "    <tr>\n",
       "      <th>0</th>\n",
       "      <td>NO</td>\n",
       "      <td>Single</td>\n",
       "      <td>50047</td>\n",
       "      <td>10</td>\n",
       "      <td>YES</td>\n",
       "      <td>Good</td>\n",
       "    </tr>\n",
       "    <tr>\n",
       "      <th>1</th>\n",
       "      <td>YES</td>\n",
       "      <td>Divorced</td>\n",
       "      <td>134075</td>\n",
       "      <td>18</td>\n",
       "      <td>YES</td>\n",
       "      <td>Good</td>\n",
       "    </tr>\n",
       "    <tr>\n",
       "      <th>2</th>\n",
       "      <td>NO</td>\n",
       "      <td>Married</td>\n",
       "      <td>160205</td>\n",
       "      <td>30</td>\n",
       "      <td>YES</td>\n",
       "      <td>Good</td>\n",
       "    </tr>\n",
       "    <tr>\n",
       "      <th>3</th>\n",
       "      <td>YES</td>\n",
       "      <td>Single</td>\n",
       "      <td>193264</td>\n",
       "      <td>15</td>\n",
       "      <td>YES</td>\n",
       "      <td>Good</td>\n",
       "    </tr>\n",
       "    <tr>\n",
       "      <th>4</th>\n",
       "      <td>NO</td>\n",
       "      <td>Married</td>\n",
       "      <td>27533</td>\n",
       "      <td>28</td>\n",
       "      <td>NO</td>\n",
       "      <td>Good</td>\n",
       "    </tr>\n",
       "    <tr>\n",
       "      <th>...</th>\n",
       "      <td>...</td>\n",
       "      <td>...</td>\n",
       "      <td>...</td>\n",
       "      <td>...</td>\n",
       "      <td>...</td>\n",
       "      <td>...</td>\n",
       "    </tr>\n",
       "    <tr>\n",
       "      <th>595</th>\n",
       "      <td>YES</td>\n",
       "      <td>Divorced</td>\n",
       "      <td>39492</td>\n",
       "      <td>7</td>\n",
       "      <td>YES</td>\n",
       "      <td>Good</td>\n",
       "    </tr>\n",
       "    <tr>\n",
       "      <th>596</th>\n",
       "      <td>YES</td>\n",
       "      <td>Divorced</td>\n",
       "      <td>55369</td>\n",
       "      <td>2</td>\n",
       "      <td>YES</td>\n",
       "      <td>Good</td>\n",
       "    </tr>\n",
       "    <tr>\n",
       "      <th>597</th>\n",
       "      <td>NO</td>\n",
       "      <td>Divorced</td>\n",
       "      <td>154058</td>\n",
       "      <td>0</td>\n",
       "      <td>YES</td>\n",
       "      <td>Good</td>\n",
       "    </tr>\n",
       "    <tr>\n",
       "      <th>598</th>\n",
       "      <td>YES</td>\n",
       "      <td>Married</td>\n",
       "      <td>180083</td>\n",
       "      <td>17</td>\n",
       "      <td>NO</td>\n",
       "      <td>Good</td>\n",
       "    </tr>\n",
       "    <tr>\n",
       "      <th>599</th>\n",
       "      <td>NO</td>\n",
       "      <td>Divorced</td>\n",
       "      <td>158137</td>\n",
       "      <td>16</td>\n",
       "      <td>NO</td>\n",
       "      <td>Good</td>\n",
       "    </tr>\n",
       "  </tbody>\n",
       "</table>\n",
       "<p>600 rows × 6 columns</p>\n",
       "</div>"
      ],
      "text/plain": [
       "    Undergrad Marital.Status  City.Population  Work.Experience Urban  \\\n",
       "0          NO         Single            50047               10   YES   \n",
       "1         YES       Divorced           134075               18   YES   \n",
       "2          NO        Married           160205               30   YES   \n",
       "3         YES         Single           193264               15   YES   \n",
       "4          NO        Married            27533               28    NO   \n",
       "..        ...            ...              ...              ...   ...   \n",
       "595       YES       Divorced            39492                7   YES   \n",
       "596       YES       Divorced            55369                2   YES   \n",
       "597        NO       Divorced           154058                0   YES   \n",
       "598       YES        Married           180083               17    NO   \n",
       "599        NO       Divorced           158137               16    NO   \n",
       "\n",
       "    Risk_Category  \n",
       "0            Good  \n",
       "1            Good  \n",
       "2            Good  \n",
       "3            Good  \n",
       "4            Good  \n",
       "..            ...  \n",
       "595          Good  \n",
       "596          Good  \n",
       "597          Good  \n",
       "598          Good  \n",
       "599          Good  \n",
       "\n",
       "[600 rows x 6 columns]"
      ]
     },
     "execution_count": 7,
     "metadata": {},
     "output_type": "execute_result"
    }
   ],
   "source": [
    "df"
   ]
  },
  {
   "cell_type": "code",
   "execution_count": 8,
   "id": "fd0a0e61",
   "metadata": {
    "ExecuteTime": {
     "end_time": "2023-07-08T11:08:20.692064Z",
     "start_time": "2023-07-08T11:08:20.683066Z"
    }
   },
   "outputs": [],
   "source": [
    "df3 = pd.get_dummies(df, columns = ['Undergrad','Marital.Status','Urban'])"
   ]
  },
  {
   "cell_type": "code",
   "execution_count": 9,
   "id": "e8c0ce3c",
   "metadata": {
    "ExecuteTime": {
     "end_time": "2023-07-08T11:08:22.634350Z",
     "start_time": "2023-07-08T11:08:22.625374Z"
    }
   },
   "outputs": [],
   "source": [
    "df1 = df.copy()"
   ]
  },
  {
   "cell_type": "code",
   "execution_count": 10,
   "id": "f1e6b0e9",
   "metadata": {
    "ExecuteTime": {
     "end_time": "2023-07-08T11:08:24.336528Z",
     "start_time": "2023-07-08T11:08:24.323564Z"
    }
   },
   "outputs": [
    {
     "data": {
      "text/html": [
       "<div>\n",
       "<style scoped>\n",
       "    .dataframe tbody tr th:only-of-type {\n",
       "        vertical-align: middle;\n",
       "    }\n",
       "\n",
       "    .dataframe tbody tr th {\n",
       "        vertical-align: top;\n",
       "    }\n",
       "\n",
       "    .dataframe thead th {\n",
       "        text-align: right;\n",
       "    }\n",
       "</style>\n",
       "<table border=\"1\" class=\"dataframe\">\n",
       "  <thead>\n",
       "    <tr style=\"text-align: right;\">\n",
       "      <th></th>\n",
       "      <th>Undergrad</th>\n",
       "      <th>Marital.Status</th>\n",
       "      <th>City.Population</th>\n",
       "      <th>Work.Experience</th>\n",
       "      <th>Urban</th>\n",
       "      <th>Risk_Category</th>\n",
       "    </tr>\n",
       "  </thead>\n",
       "  <tbody>\n",
       "    <tr>\n",
       "      <th>0</th>\n",
       "      <td>NO</td>\n",
       "      <td>Single</td>\n",
       "      <td>50047</td>\n",
       "      <td>10</td>\n",
       "      <td>YES</td>\n",
       "      <td>Good</td>\n",
       "    </tr>\n",
       "    <tr>\n",
       "      <th>1</th>\n",
       "      <td>YES</td>\n",
       "      <td>Divorced</td>\n",
       "      <td>134075</td>\n",
       "      <td>18</td>\n",
       "      <td>YES</td>\n",
       "      <td>Good</td>\n",
       "    </tr>\n",
       "    <tr>\n",
       "      <th>2</th>\n",
       "      <td>NO</td>\n",
       "      <td>Married</td>\n",
       "      <td>160205</td>\n",
       "      <td>30</td>\n",
       "      <td>YES</td>\n",
       "      <td>Good</td>\n",
       "    </tr>\n",
       "    <tr>\n",
       "      <th>3</th>\n",
       "      <td>YES</td>\n",
       "      <td>Single</td>\n",
       "      <td>193264</td>\n",
       "      <td>15</td>\n",
       "      <td>YES</td>\n",
       "      <td>Good</td>\n",
       "    </tr>\n",
       "    <tr>\n",
       "      <th>4</th>\n",
       "      <td>NO</td>\n",
       "      <td>Married</td>\n",
       "      <td>27533</td>\n",
       "      <td>28</td>\n",
       "      <td>NO</td>\n",
       "      <td>Good</td>\n",
       "    </tr>\n",
       "  </tbody>\n",
       "</table>\n",
       "</div>"
      ],
      "text/plain": [
       "  Undergrad Marital.Status  City.Population  Work.Experience Urban  \\\n",
       "0        NO         Single            50047               10   YES   \n",
       "1       YES       Divorced           134075               18   YES   \n",
       "2        NO        Married           160205               30   YES   \n",
       "3       YES         Single           193264               15   YES   \n",
       "4        NO        Married            27533               28    NO   \n",
       "\n",
       "  Risk_Category  \n",
       "0          Good  \n",
       "1          Good  \n",
       "2          Good  \n",
       "3          Good  \n",
       "4          Good  "
      ]
     },
     "execution_count": 10,
     "metadata": {},
     "output_type": "execute_result"
    }
   ],
   "source": [
    "df1.head()"
   ]
  },
  {
   "cell_type": "code",
   "execution_count": 11,
   "id": "aa980f5a",
   "metadata": {
    "ExecuteTime": {
     "end_time": "2023-07-08T11:08:27.872056Z",
     "start_time": "2023-07-08T11:08:27.843254Z"
    }
   },
   "outputs": [
    {
     "data": {
      "text/html": [
       "<div>\n",
       "<style scoped>\n",
       "    .dataframe tbody tr th:only-of-type {\n",
       "        vertical-align: middle;\n",
       "    }\n",
       "\n",
       "    .dataframe tbody tr th {\n",
       "        vertical-align: top;\n",
       "    }\n",
       "\n",
       "    .dataframe thead th {\n",
       "        text-align: right;\n",
       "    }\n",
       "</style>\n",
       "<table border=\"1\" class=\"dataframe\">\n",
       "  <thead>\n",
       "    <tr style=\"text-align: right;\">\n",
       "      <th></th>\n",
       "      <th>count</th>\n",
       "      <th>mean</th>\n",
       "      <th>std</th>\n",
       "      <th>min</th>\n",
       "      <th>25%</th>\n",
       "      <th>50%</th>\n",
       "      <th>75%</th>\n",
       "      <th>max</th>\n",
       "    </tr>\n",
       "  </thead>\n",
       "  <tbody>\n",
       "    <tr>\n",
       "      <th>City.Population</th>\n",
       "      <td>600.0</td>\n",
       "      <td>108747.368333</td>\n",
       "      <td>49850.075134</td>\n",
       "      <td>25779.0</td>\n",
       "      <td>66966.75</td>\n",
       "      <td>106493.5</td>\n",
       "      <td>150114.25</td>\n",
       "      <td>199778.0</td>\n",
       "    </tr>\n",
       "    <tr>\n",
       "      <th>Work.Experience</th>\n",
       "      <td>600.0</td>\n",
       "      <td>15.558333</td>\n",
       "      <td>8.842147</td>\n",
       "      <td>0.0</td>\n",
       "      <td>8.00</td>\n",
       "      <td>15.0</td>\n",
       "      <td>24.00</td>\n",
       "      <td>30.0</td>\n",
       "    </tr>\n",
       "  </tbody>\n",
       "</table>\n",
       "</div>"
      ],
      "text/plain": [
       "                 count           mean           std      min       25%  \\\n",
       "City.Population  600.0  108747.368333  49850.075134  25779.0  66966.75   \n",
       "Work.Experience  600.0      15.558333      8.842147      0.0      8.00   \n",
       "\n",
       "                      50%        75%       max  \n",
       "City.Population  106493.5  150114.25  199778.0  \n",
       "Work.Experience      15.0      24.00      30.0  "
      ]
     },
     "execution_count": 11,
     "metadata": {},
     "output_type": "execute_result"
    }
   ],
   "source": [
    "df1.describe().T"
   ]
  },
  {
   "cell_type": "code",
   "execution_count": 12,
   "id": "0481f8ad",
   "metadata": {
    "ExecuteTime": {
     "end_time": "2023-07-08T11:08:30.392300Z",
     "start_time": "2023-07-08T11:08:30.379335Z"
    }
   },
   "outputs": [
    {
     "data": {
      "text/plain": [
       "Undergrad          0\n",
       "Marital.Status     0\n",
       "City.Population    0\n",
       "Work.Experience    0\n",
       "Urban              0\n",
       "Risk_Category      0\n",
       "dtype: int64"
      ]
     },
     "execution_count": 12,
     "metadata": {},
     "output_type": "execute_result"
    }
   ],
   "source": [
    "df1.isnull().sum()"
   ]
  },
  {
   "cell_type": "code",
   "execution_count": 13,
   "id": "5e5cab45",
   "metadata": {
    "ExecuteTime": {
     "end_time": "2023-07-08T11:08:32.725360Z",
     "start_time": "2023-07-08T11:08:32.707304Z"
    }
   },
   "outputs": [
    {
     "data": {
      "text/plain": [
       "Undergrad          object\n",
       "Marital.Status     object\n",
       "City.Population     int64\n",
       "Work.Experience     int64\n",
       "Urban              object\n",
       "Risk_Category      object\n",
       "dtype: object"
      ]
     },
     "execution_count": 13,
     "metadata": {},
     "output_type": "execute_result"
    }
   ],
   "source": [
    "df1.dtypes"
   ]
  },
  {
   "cell_type": "code",
   "execution_count": 14,
   "id": "c85d1815",
   "metadata": {
    "ExecuteTime": {
     "end_time": "2023-07-08T11:08:35.638555Z",
     "start_time": "2023-07-08T11:08:35.626588Z"
    }
   },
   "outputs": [],
   "source": [
    "df1 = pd.get_dummies(df1, columns = ['Undergrad','Marital.Status','Urban'])"
   ]
  },
  {
   "cell_type": "markdown",
   "id": "d3d7b034",
   "metadata": {},
   "source": [
    "# Finding Correlation"
   ]
  },
  {
   "cell_type": "code",
   "execution_count": 15,
   "id": "190924e7",
   "metadata": {
    "ExecuteTime": {
     "end_time": "2023-07-08T11:10:24.370104Z",
     "start_time": "2023-07-08T11:10:24.355143Z"
    }
   },
   "outputs": [
    {
     "name": "stderr",
     "output_type": "stream",
     "text": [
      "C:\\Users\\BALU\\AppData\\Local\\Temp\\ipykernel_9864\\1630763350.py:1: FutureWarning: The default value of numeric_only in DataFrame.corr is deprecated. In a future version, it will default to False. Select only valid columns or specify the value of numeric_only to silence this warning.\n",
      "  corr = df1.corr()\n"
     ]
    }
   ],
   "source": [
    "corr = df1.corr()"
   ]
  },
  {
   "cell_type": "code",
   "execution_count": 16,
   "id": "83b91c80",
   "metadata": {
    "ExecuteTime": {
     "end_time": "2023-07-08T11:10:42.246785Z",
     "start_time": "2023-07-08T11:10:42.219855Z"
    }
   },
   "outputs": [
    {
     "data": {
      "text/html": [
       "<div>\n",
       "<style scoped>\n",
       "    .dataframe tbody tr th:only-of-type {\n",
       "        vertical-align: middle;\n",
       "    }\n",
       "\n",
       "    .dataframe tbody tr th {\n",
       "        vertical-align: top;\n",
       "    }\n",
       "\n",
       "    .dataframe thead th {\n",
       "        text-align: right;\n",
       "    }\n",
       "</style>\n",
       "<table border=\"1\" class=\"dataframe\">\n",
       "  <thead>\n",
       "    <tr style=\"text-align: right;\">\n",
       "      <th></th>\n",
       "      <th>City.Population</th>\n",
       "      <th>Work.Experience</th>\n",
       "      <th>Undergrad_NO</th>\n",
       "      <th>Undergrad_YES</th>\n",
       "      <th>Marital.Status_Divorced</th>\n",
       "      <th>Marital.Status_Married</th>\n",
       "      <th>Marital.Status_Single</th>\n",
       "      <th>Urban_NO</th>\n",
       "      <th>Urban_YES</th>\n",
       "    </tr>\n",
       "  </thead>\n",
       "  <tbody>\n",
       "    <tr>\n",
       "      <th>City.Population</th>\n",
       "      <td>1.000000</td>\n",
       "      <td>0.013135</td>\n",
       "      <td>-0.079579</td>\n",
       "      <td>0.079579</td>\n",
       "      <td>0.004925</td>\n",
       "      <td>-0.007035</td>\n",
       "      <td>0.002087</td>\n",
       "      <td>0.040098</td>\n",
       "      <td>-0.040098</td>\n",
       "    </tr>\n",
       "    <tr>\n",
       "      <th>Work.Experience</th>\n",
       "      <td>0.013135</td>\n",
       "      <td>1.000000</td>\n",
       "      <td>0.005362</td>\n",
       "      <td>-0.005362</td>\n",
       "      <td>-0.014833</td>\n",
       "      <td>0.033347</td>\n",
       "      <td>-0.018123</td>\n",
       "      <td>0.094559</td>\n",
       "      <td>-0.094559</td>\n",
       "    </tr>\n",
       "    <tr>\n",
       "      <th>Undergrad_NO</th>\n",
       "      <td>-0.079579</td>\n",
       "      <td>0.005362</td>\n",
       "      <td>1.000000</td>\n",
       "      <td>-1.000000</td>\n",
       "      <td>0.045101</td>\n",
       "      <td>-0.015120</td>\n",
       "      <td>-0.028883</td>\n",
       "      <td>-0.000267</td>\n",
       "      <td>0.000267</td>\n",
       "    </tr>\n",
       "    <tr>\n",
       "      <th>Undergrad_YES</th>\n",
       "      <td>0.079579</td>\n",
       "      <td>-0.005362</td>\n",
       "      <td>-1.000000</td>\n",
       "      <td>1.000000</td>\n",
       "      <td>-0.045101</td>\n",
       "      <td>0.015120</td>\n",
       "      <td>0.028883</td>\n",
       "      <td>0.000267</td>\n",
       "      <td>-0.000267</td>\n",
       "    </tr>\n",
       "    <tr>\n",
       "      <th>Marital.Status_Divorced</th>\n",
       "      <td>0.004925</td>\n",
       "      <td>-0.014833</td>\n",
       "      <td>0.045101</td>\n",
       "      <td>-0.045101</td>\n",
       "      <td>1.000000</td>\n",
       "      <td>-0.468757</td>\n",
       "      <td>-0.510435</td>\n",
       "      <td>0.065518</td>\n",
       "      <td>-0.065518</td>\n",
       "    </tr>\n",
       "    <tr>\n",
       "      <th>Marital.Status_Married</th>\n",
       "      <td>-0.007035</td>\n",
       "      <td>0.033347</td>\n",
       "      <td>-0.015120</td>\n",
       "      <td>0.015120</td>\n",
       "      <td>-0.468757</td>\n",
       "      <td>1.000000</td>\n",
       "      <td>-0.520317</td>\n",
       "      <td>-0.016771</td>\n",
       "      <td>0.016771</td>\n",
       "    </tr>\n",
       "    <tr>\n",
       "      <th>Marital.Status_Single</th>\n",
       "      <td>0.002087</td>\n",
       "      <td>-0.018123</td>\n",
       "      <td>-0.028883</td>\n",
       "      <td>0.028883</td>\n",
       "      <td>-0.510435</td>\n",
       "      <td>-0.520317</td>\n",
       "      <td>1.000000</td>\n",
       "      <td>-0.047014</td>\n",
       "      <td>0.047014</td>\n",
       "    </tr>\n",
       "    <tr>\n",
       "      <th>Urban_NO</th>\n",
       "      <td>0.040098</td>\n",
       "      <td>0.094559</td>\n",
       "      <td>-0.000267</td>\n",
       "      <td>0.000267</td>\n",
       "      <td>0.065518</td>\n",
       "      <td>-0.016771</td>\n",
       "      <td>-0.047014</td>\n",
       "      <td>1.000000</td>\n",
       "      <td>-1.000000</td>\n",
       "    </tr>\n",
       "    <tr>\n",
       "      <th>Urban_YES</th>\n",
       "      <td>-0.040098</td>\n",
       "      <td>-0.094559</td>\n",
       "      <td>0.000267</td>\n",
       "      <td>-0.000267</td>\n",
       "      <td>-0.065518</td>\n",
       "      <td>0.016771</td>\n",
       "      <td>0.047014</td>\n",
       "      <td>-1.000000</td>\n",
       "      <td>1.000000</td>\n",
       "    </tr>\n",
       "  </tbody>\n",
       "</table>\n",
       "</div>"
      ],
      "text/plain": [
       "                         City.Population  Work.Experience  Undergrad_NO  \\\n",
       "City.Population                 1.000000         0.013135     -0.079579   \n",
       "Work.Experience                 0.013135         1.000000      0.005362   \n",
       "Undergrad_NO                   -0.079579         0.005362      1.000000   \n",
       "Undergrad_YES                   0.079579        -0.005362     -1.000000   \n",
       "Marital.Status_Divorced         0.004925        -0.014833      0.045101   \n",
       "Marital.Status_Married         -0.007035         0.033347     -0.015120   \n",
       "Marital.Status_Single           0.002087        -0.018123     -0.028883   \n",
       "Urban_NO                        0.040098         0.094559     -0.000267   \n",
       "Urban_YES                      -0.040098        -0.094559      0.000267   \n",
       "\n",
       "                         Undergrad_YES  Marital.Status_Divorced  \\\n",
       "City.Population               0.079579                 0.004925   \n",
       "Work.Experience              -0.005362                -0.014833   \n",
       "Undergrad_NO                 -1.000000                 0.045101   \n",
       "Undergrad_YES                 1.000000                -0.045101   \n",
       "Marital.Status_Divorced      -0.045101                 1.000000   \n",
       "Marital.Status_Married        0.015120                -0.468757   \n",
       "Marital.Status_Single         0.028883                -0.510435   \n",
       "Urban_NO                      0.000267                 0.065518   \n",
       "Urban_YES                    -0.000267                -0.065518   \n",
       "\n",
       "                         Marital.Status_Married  Marital.Status_Single  \\\n",
       "City.Population                       -0.007035               0.002087   \n",
       "Work.Experience                        0.033347              -0.018123   \n",
       "Undergrad_NO                          -0.015120              -0.028883   \n",
       "Undergrad_YES                          0.015120               0.028883   \n",
       "Marital.Status_Divorced               -0.468757              -0.510435   \n",
       "Marital.Status_Married                 1.000000              -0.520317   \n",
       "Marital.Status_Single                 -0.520317               1.000000   \n",
       "Urban_NO                              -0.016771              -0.047014   \n",
       "Urban_YES                              0.016771               0.047014   \n",
       "\n",
       "                         Urban_NO  Urban_YES  \n",
       "City.Population          0.040098  -0.040098  \n",
       "Work.Experience          0.094559  -0.094559  \n",
       "Undergrad_NO            -0.000267   0.000267  \n",
       "Undergrad_YES            0.000267  -0.000267  \n",
       "Marital.Status_Divorced  0.065518  -0.065518  \n",
       "Marital.Status_Married  -0.016771   0.016771  \n",
       "Marital.Status_Single   -0.047014   0.047014  \n",
       "Urban_NO                 1.000000  -1.000000  \n",
       "Urban_YES               -1.000000   1.000000  "
      ]
     },
     "execution_count": 16,
     "metadata": {},
     "output_type": "execute_result"
    }
   ],
   "source": [
    "corr"
   ]
  },
  {
   "cell_type": "code",
   "execution_count": 17,
   "id": "0d2d0920",
   "metadata": {
    "ExecuteTime": {
     "end_time": "2023-07-08T11:11:01.528087Z",
     "start_time": "2023-07-08T11:11:00.874997Z"
    }
   },
   "outputs": [
    {
     "data": {
      "text/plain": [
       "<Axes: >"
      ]
     },
     "execution_count": 17,
     "metadata": {},
     "output_type": "execute_result"
    },
    {
     "data": {
      "image/png": "[encoded data removed]",
      "text/plain": [
       "<Figure size 1000x1000 with 2 Axes>"
      ]
     },
     "metadata": {},
     "output_type": "display_data"
    }
   ],
   "source": [
    "plt.figure(figsize=(10,10))\n",
    "sns.heatmap(corr,annot=True)"
   ]
  },
  {
   "cell_type": "code",
   "execution_count": 18,
   "id": "22396ce0",
   "metadata": {
    "ExecuteTime": {
     "end_time": "2023-07-08T11:11:21.496764Z",
     "start_time": "2023-07-08T11:11:21.475144Z"
    }
   },
   "outputs": [
    {
     "data": {
      "text/plain": [
       "Index(['City.Population', 'Work.Experience', 'Risk_Category', 'Undergrad_NO',\n",
       "       'Undergrad_YES', 'Marital.Status_Divorced', 'Marital.Status_Married',\n",
       "       'Marital.Status_Single', 'Urban_NO', 'Urban_YES'],\n",
       "      dtype='object')"
      ]
     },
     "execution_count": 18,
     "metadata": {},
     "output_type": "execute_result"
    }
   ],
   "source": [
    "df1.columns"
   ]
  },
  {
   "cell_type": "code",
   "execution_count": 22,
   "id": "c61c87da",
   "metadata": {
    "ExecuteTime": {
     "end_time": "2023-07-08T11:13:35.340455Z",
     "start_time": "2023-07-08T11:13:35.233513Z"
    }
   },
   "outputs": [
    {
     "data": {
      "image/png": "[encoded data removed]",
      "text/plain": [
       "<Figure size 640x480 with 1 Axes>"
      ]
     },
     "metadata": {},
     "output_type": "display_data"
    }
   ],
   "source": [
    "plt.boxplot([df1[\"City.Population\"]])\n",
    "plt.show()"
   ]
  },
  {
   "cell_type": "code",
   "execution_count": 23,
   "id": "e1775d2d",
   "metadata": {
    "ExecuteTime": {
     "end_time": "2023-07-08T11:14:55.443706Z",
     "start_time": "2023-07-08T11:14:55.345094Z"
    }
   },
   "outputs": [
    {
     "data": {
      "image/png": "[encoded data removed]",
      "text/plain": [
       "<Figure size 640x480 with 1 Axes>"
      ]
     },
     "metadata": {},
     "output_type": "display_data"
    }
   ],
   "source": [
    "plt.boxplot([df1[\"Work.Experience\"]])\n",
    "plt.show()"
   ]
  },
  {
   "cell_type": "markdown",
   "id": "5e766b83",
   "metadata": {},
   "source": [
    "# 3 - Random Forest Model"
   ]
  },
  {
   "cell_type": "code",
   "execution_count": 19,
   "id": "da411d9c",
   "metadata": {
    "ExecuteTime": {
     "end_time": "2023-07-05T13:37:11.665976Z",
     "start_time": "2023-07-05T13:37:11.645325Z"
    }
   },
   "outputs": [],
   "source": [
    "X = df3.drop(\"Risk_Category\", axis=1)\n",
    "y = df3[\"Risk_Category\"]"
   ]
  },
  {
   "cell_type": "code",
   "execution_count": 20,
   "id": "484ec10f",
   "metadata": {
    "ExecuteTime": {
     "end_time": "2023-07-05T13:37:12.633507Z",
     "start_time": "2023-07-05T13:37:12.613230Z"
    }
   },
   "outputs": [],
   "source": [
    "x_train,x_test,y_train,y_test = train_test_split(X,y,test_size = 0.2)"
   ]
  },
  {
   "cell_type": "code",
   "execution_count": 21,
   "id": "020a1ffa",
   "metadata": {
    "ExecuteTime": {
     "end_time": "2023-07-05T13:37:13.680634Z",
     "start_time": "2023-07-05T13:37:13.669623Z"
    }
   },
   "outputs": [
    {
     "data": {
      "text/plain": [
       "Good     375\n",
       "Risky    105\n",
       "Name: Risk_Category, dtype: int64"
      ]
     },
     "execution_count": 21,
     "metadata": {},
     "output_type": "execute_result"
    }
   ],
   "source": [
    "y_train.value_counts()"
   ]
  },
  {
   "cell_type": "code",
   "execution_count": 22,
   "id": "4666d66e",
   "metadata": {
    "ExecuteTime": {
     "end_time": "2023-07-05T13:37:14.984234Z",
     "start_time": "2023-07-05T13:37:14.685490Z"
    }
   },
   "outputs": [
    {
     "data": {
      "text/plain": [
       "0.7166666666666667"
      ]
     },
     "execution_count": 22,
     "metadata": {},
     "output_type": "execute_result"
    }
   ],
   "source": [
    "model =RF(n_jobs=4,n_estimators = 150, oob_score =True,criterion ='entropy') \n",
    "model.fit(x_train,y_train)\n",
    "model.oob_score_"
   ]
  },
  {
   "cell_type": "code",
   "execution_count": 23,
   "id": "6ed2b9f6",
   "metadata": {
    "ExecuteTime": {
     "end_time": "2023-07-05T13:37:17.396389Z",
     "start_time": "2023-07-05T13:37:17.347201Z"
    }
   },
   "outputs": [],
   "source": [
    "pred_train = model.predict(x_train)"
   ]
  },
  {
   "cell_type": "code",
   "execution_count": 24,
   "id": "eae8eb91",
   "metadata": {
    "ExecuteTime": {
     "end_time": "2023-07-05T13:37:18.362184Z",
     "start_time": "2023-07-05T13:37:18.347675Z"
    }
   },
   "outputs": [
    {
     "data": {
      "text/plain": [
       "1.0"
      ]
     },
     "execution_count": 24,
     "metadata": {},
     "output_type": "execute_result"
    }
   ],
   "source": [
    "accuracy_score(y_train,pred_train)"
   ]
  },
  {
   "cell_type": "code",
   "execution_count": 25,
   "id": "5a5ba2e7",
   "metadata": {
    "ExecuteTime": {
     "end_time": "2023-07-05T13:37:19.279374Z",
     "start_time": "2023-07-05T13:37:19.267128Z"
    }
   },
   "outputs": [
    {
     "data": {
      "text/plain": [
       "array([[375,   0],\n",
       "       [  0, 105]], dtype=int64)"
      ]
     },
     "execution_count": 25,
     "metadata": {},
     "output_type": "execute_result"
    }
   ],
   "source": [
    "confusion_matrix(y_train,pred_train)"
   ]
  },
  {
   "cell_type": "code",
   "execution_count": 26,
   "id": "5e29acb8",
   "metadata": {
    "ExecuteTime": {
     "end_time": "2023-07-05T13:37:22.595250Z",
     "start_time": "2023-07-05T13:37:22.548346Z"
    }
   },
   "outputs": [],
   "source": [
    "pred_test = model.predict(x_test)"
   ]
  },
  {
   "cell_type": "code",
   "execution_count": 27,
   "id": "2279fe26",
   "metadata": {
    "ExecuteTime": {
     "end_time": "2023-07-05T13:37:23.534592Z",
     "start_time": "2023-07-05T13:37:23.515610Z"
    }
   },
   "outputs": [
    {
     "data": {
      "text/plain": [
       "0.775"
      ]
     },
     "execution_count": 27,
     "metadata": {},
     "output_type": "execute_result"
    }
   ],
   "source": [
    "accuracy_score(y_test,pred_test)"
   ]
  },
  {
   "cell_type": "code",
   "execution_count": 28,
   "id": "18ea08b5",
   "metadata": {
    "ExecuteTime": {
     "end_time": "2023-07-05T13:37:27.058120Z",
     "start_time": "2023-07-05T13:37:27.037177Z"
    }
   },
   "outputs": [
    {
     "name": "stdout",
     "output_type": "stream",
     "text": [
      "[[92  9]\n",
      " [18  1]]\n"
     ]
    }
   ],
   "source": [
    "print(confusion_matrix(y_test,pred_test))"
   ]
  },
  {
   "cell_type": "code",
   "execution_count": 29,
   "id": "408bffbe",
   "metadata": {
    "ExecuteTime": {
     "end_time": "2023-07-05T13:37:28.174591Z",
     "start_time": "2023-07-05T13:37:28.165195Z"
    }
   },
   "outputs": [],
   "source": [
    "df_t=pd.DataFrame({'Actual':y_test, 'Predicted':pred_test})"
   ]
  },
  {
   "cell_type": "code",
   "execution_count": 30,
   "id": "e9beb35a",
   "metadata": {
    "ExecuteTime": {
     "end_time": "2023-07-05T13:37:29.813664Z",
     "start_time": "2023-07-05T13:37:29.788733Z"
    }
   },
   "outputs": [
    {
     "data": {
      "text/html": [
       "<div>\n",
       "<style scoped>\n",
       "    .dataframe tbody tr th:only-of-type {\n",
       "        vertical-align: middle;\n",
       "    }\n",
       "\n",
       "    .dataframe tbody tr th {\n",
       "        vertical-align: top;\n",
       "    }\n",
       "\n",
       "    .dataframe thead th {\n",
       "        text-align: right;\n",
       "    }\n",
       "</style>\n",
       "<table border=\"1\" class=\"dataframe\">\n",
       "  <thead>\n",
       "    <tr style=\"text-align: right;\">\n",
       "      <th></th>\n",
       "      <th>Actual</th>\n",
       "      <th>Predicted</th>\n",
       "    </tr>\n",
       "  </thead>\n",
       "  <tbody>\n",
       "    <tr>\n",
       "      <th>214</th>\n",
       "      <td>Good</td>\n",
       "      <td>Good</td>\n",
       "    </tr>\n",
       "    <tr>\n",
       "      <th>50</th>\n",
       "      <td>Good</td>\n",
       "      <td>Good</td>\n",
       "    </tr>\n",
       "    <tr>\n",
       "      <th>482</th>\n",
       "      <td>Good</td>\n",
       "      <td>Good</td>\n",
       "    </tr>\n",
       "    <tr>\n",
       "      <th>185</th>\n",
       "      <td>Good</td>\n",
       "      <td>Risky</td>\n",
       "    </tr>\n",
       "    <tr>\n",
       "      <th>346</th>\n",
       "      <td>Risky</td>\n",
       "      <td>Risky</td>\n",
       "    </tr>\n",
       "    <tr>\n",
       "      <th>...</th>\n",
       "      <td>...</td>\n",
       "      <td>...</td>\n",
       "    </tr>\n",
       "    <tr>\n",
       "      <th>231</th>\n",
       "      <td>Good</td>\n",
       "      <td>Good</td>\n",
       "    </tr>\n",
       "    <tr>\n",
       "      <th>371</th>\n",
       "      <td>Good</td>\n",
       "      <td>Good</td>\n",
       "    </tr>\n",
       "    <tr>\n",
       "      <th>564</th>\n",
       "      <td>Good</td>\n",
       "      <td>Good</td>\n",
       "    </tr>\n",
       "    <tr>\n",
       "      <th>216</th>\n",
       "      <td>Good</td>\n",
       "      <td>Good</td>\n",
       "    </tr>\n",
       "    <tr>\n",
       "      <th>368</th>\n",
       "      <td>Good</td>\n",
       "      <td>Good</td>\n",
       "    </tr>\n",
       "  </tbody>\n",
       "</table>\n",
       "<p>120 rows × 2 columns</p>\n",
       "</div>"
      ],
      "text/plain": [
       "    Actual Predicted\n",
       "214   Good      Good\n",
       "50    Good      Good\n",
       "482   Good      Good\n",
       "185   Good     Risky\n",
       "346  Risky     Risky\n",
       "..     ...       ...\n",
       "231   Good      Good\n",
       "371   Good      Good\n",
       "564   Good      Good\n",
       "216   Good      Good\n",
       "368   Good      Good\n",
       "\n",
       "[120 rows x 2 columns]"
      ]
     },
     "execution_count": 30,
     "metadata": {},
     "output_type": "execute_result"
    }
   ],
   "source": [
    "df_t"
   ]
  },
  {
   "cell_type": "code",
   "execution_count": 31,
   "id": "3c1536de",
   "metadata": {
    "ExecuteTime": {
     "end_time": "2023-07-05T13:37:32.188236Z",
     "start_time": "2023-07-05T13:37:32.147635Z"
    }
   },
   "outputs": [
    {
     "data": {
      "text/plain": [
       "array([0.50530714, 0.36968144, 0.01606418, 0.01657123, 0.01764757,\n",
       "       0.02069616, 0.0172742 , 0.01822019, 0.01853788])"
      ]
     },
     "execution_count": 31,
     "metadata": {},
     "output_type": "execute_result"
    }
   ],
   "source": [
    "model.feature_importances_"
   ]
  },
  {
   "cell_type": "code",
   "execution_count": 32,
   "id": "a0aa239c",
   "metadata": {
    "ExecuteTime": {
     "end_time": "2023-07-05T13:37:34.595830Z",
     "start_time": "2023-07-05T13:37:34.557173Z"
    }
   },
   "outputs": [],
   "source": [
    "fi = pd.DataFrame({'feature': list(x_train.columns),\n",
    "                   'importance': model.feature_importances_}).\\\n",
    "                    sort_values('importance', ascending = False)"
   ]
  },
  {
   "cell_type": "code",
   "execution_count": 33,
   "id": "437bd28b",
   "metadata": {
    "ExecuteTime": {
     "end_time": "2023-07-05T13:37:35.390440Z",
     "start_time": "2023-07-05T13:37:35.379437Z"
    }
   },
   "outputs": [
    {
     "data": {
      "text/html": [
       "<div>\n",
       "<style scoped>\n",
       "    .dataframe tbody tr th:only-of-type {\n",
       "        vertical-align: middle;\n",
       "    }\n",
       "\n",
       "    .dataframe tbody tr th {\n",
       "        vertical-align: top;\n",
       "    }\n",
       "\n",
       "    .dataframe thead th {\n",
       "        text-align: right;\n",
       "    }\n",
       "</style>\n",
       "<table border=\"1\" class=\"dataframe\">\n",
       "  <thead>\n",
       "    <tr style=\"text-align: right;\">\n",
       "      <th></th>\n",
       "      <th>feature</th>\n",
       "      <th>importance</th>\n",
       "    </tr>\n",
       "  </thead>\n",
       "  <tbody>\n",
       "    <tr>\n",
       "      <th>0</th>\n",
       "      <td>City.Population</td>\n",
       "      <td>0.505307</td>\n",
       "    </tr>\n",
       "    <tr>\n",
       "      <th>1</th>\n",
       "      <td>Work.Experience</td>\n",
       "      <td>0.369681</td>\n",
       "    </tr>\n",
       "    <tr>\n",
       "      <th>5</th>\n",
       "      <td>Marital.Status_Married</td>\n",
       "      <td>0.020696</td>\n",
       "    </tr>\n",
       "    <tr>\n",
       "      <th>8</th>\n",
       "      <td>Urban_YES</td>\n",
       "      <td>0.018538</td>\n",
       "    </tr>\n",
       "    <tr>\n",
       "      <th>7</th>\n",
       "      <td>Urban_NO</td>\n",
       "      <td>0.018220</td>\n",
       "    </tr>\n",
       "    <tr>\n",
       "      <th>4</th>\n",
       "      <td>Marital.Status_Divorced</td>\n",
       "      <td>0.017648</td>\n",
       "    </tr>\n",
       "    <tr>\n",
       "      <th>6</th>\n",
       "      <td>Marital.Status_Single</td>\n",
       "      <td>0.017274</td>\n",
       "    </tr>\n",
       "    <tr>\n",
       "      <th>3</th>\n",
       "      <td>Undergrad_YES</td>\n",
       "      <td>0.016571</td>\n",
       "    </tr>\n",
       "    <tr>\n",
       "      <th>2</th>\n",
       "      <td>Undergrad_NO</td>\n",
       "      <td>0.016064</td>\n",
       "    </tr>\n",
       "  </tbody>\n",
       "</table>\n",
       "</div>"
      ],
      "text/plain": [
       "                   feature  importance\n",
       "0          City.Population    0.505307\n",
       "1          Work.Experience    0.369681\n",
       "5   Marital.Status_Married    0.020696\n",
       "8                Urban_YES    0.018538\n",
       "7                 Urban_NO    0.018220\n",
       "4  Marital.Status_Divorced    0.017648\n",
       "6    Marital.Status_Single    0.017274\n",
       "3            Undergrad_YES    0.016571\n",
       "2             Undergrad_NO    0.016064"
      ]
     },
     "execution_count": 33,
     "metadata": {},
     "output_type": "execute_result"
    }
   ],
   "source": [
    "fi"
   ]
  },
  {
   "cell_type": "code",
   "execution_count": null,
   "id": "c7ffcff4",
   "metadata": {},
   "outputs": [],
   "source": []
  }
 ],
 "metadata": {
  "kernelspec": {
   "display_name": "Python 3 (ipykernel)",
   "language": "python",
   "name": "python3"
  },
  "language_info": {
   "codemirror_mode": {
    "name": "ipython",
    "version": 3
   },
   "file_extension": ".py",
   "mimetype": "text/x-python",
   "name": "python",
   "nbconvert_exporter": "python",
   "pygments_lexer": "ipython3",
   "version": "3.10.9"
  }
 },
 "nbformat": 4,
 "nbformat_minor": 5
}
